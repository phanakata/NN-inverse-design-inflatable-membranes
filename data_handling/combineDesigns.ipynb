{
 "cells": [
  {
   "cell_type": "markdown",
   "metadata": {},
   "source": [
    "# Inverse design of inflated membranes through Machine Learning\n"
   ]
  },
  {
   "cell_type": "code",
   "execution_count": null,
   "metadata": {
    "collapsed": true
   },
   "outputs": [],
   "source": [
    "\"\"\"\n",
    "Helper function for combining user specified tests sets (e.g., dog face, manta ray, scars)\n",
    "\"\"\""
   ]
  },
  {
   "cell_type": "markdown",
   "metadata": {},
   "source": [
    "## Import system"
   ]
  },
  {
   "cell_type": "code",
   "execution_count": 1,
   "metadata": {
    "collapsed": true
   },
   "outputs": [],
   "source": [
    "from __future__ import division, print_function, absolute_import\n",
    "import numpy as np\n",
    "import matplotlib.pyplot as plt\n",
    "import pandas as pd\n",
    "import random\n",
    "from numpy import genfromtxt"
   ]
  },
  {
   "cell_type": "code",
   "execution_count": 2,
   "metadata": {
    "collapsed": true
   },
   "outputs": [],
   "source": [
    "def combineFiles(listcsv, outfile):\n",
    "    listdata=[]\n",
    "    for file in listcsv:\n",
    "        listdata.append(genfromtxt(file, delimiter=','))\n",
    "    \n",
    "    data = listdata[0]\n",
    "    for i in range(1, len(listdata)):\n",
    "        data = np.concatenate((data, listdata[i]), axis=0)\n",
    "        \n",
    "    np.savetxt(outfile, data, delimiter=\",\")\n",
    "        \n",
    "    #np.save(outfile, data)\n",
    "    print(\"Combined files are save in \", outfile)"
   ]
  },
  {
   "cell_type": "code",
   "execution_count": 3,
   "metadata": {
    "collapsed": true
   },
   "outputs": [],
   "source": [
    "def combineFiles_for_scars(listcsv, outfile):\n",
    "    listdata=[]\n",
    "    for file in listcsv:\n",
    "        junk = (genfromtxt(file, delimiter=','))\n",
    "        junk = junk.reshape((1, len(junk)))\n",
    "        listdata.append(junk)\n",
    "    \n",
    "    data = listdata[0]\n",
    "    for i in range(1, len(listdata)):\n",
    "        data = np.concatenate((data, listdata[i]), axis=0)\n",
    "        \n",
    "    np.savetxt(outfile, data, delimiter=\",\")\n",
    "        \n",
    "    #np.save(outfile, data)\n",
    "    print(\"Combined files are save in \", outfile)"
   ]
  },
  {
   "cell_type": "code",
   "execution_count": 16,
   "metadata": {},
   "outputs": [
    {
     "name": "stdout",
     "output_type": "stream",
     "text": [
      "Combined files are save in  inverseAll.csv\n"
     ]
    }
   ],
   "source": [
    "listcsv = ['dog11_HR_voxel.csv', 'fish9_HR_voxel.csv', 'fish_small4_HR_voxel.csv', 'geko3_HR_voxel.csv', \n",
    "           'koala3_HR_voxel.csv', 'piranha6_HR_voxel.csv', 'ray2_HR_voxel.csv', 'turtle4_HR_voxel.csv']\n",
    "outfile = 'inverseAll.csv'\n",
    "\n",
    "combineFiles(listcsv, outfile)"
   ]
  },
  {
   "cell_type": "code",
   "execution_count": 5,
   "metadata": {},
   "outputs": [
    {
     "name": "stdout",
     "output_type": "stream",
     "text": [
      "Combined files are save in  inverse_scarsNew.csv\n"
     ]
    }
   ],
   "source": [
    "listcsv = ['C4_HR_voxel.csv', 'S4_HR_voxel.csv', 'X2_HR_voxel.csv', 'Z11_HR_voxel.csv']     \n",
    "outfile = 'inverse_scarsNew.csv'\n",
    "\n",
    "combineFiles(listcsv, outfile)"
   ]
  },
  {
   "cell_type": "code",
   "execution_count": 25,
   "metadata": {},
   "outputs": [
    {
     "name": "stdout",
     "output_type": "stream",
     "text": [
      "Combined files are save in  scarAll.csv\n"
     ]
    }
   ],
   "source": [
    "listcsv = ['c4_edit_HR_voxel.csv', 's4_edit_HR_voxel.csv', 'x2_edit_HR_voxel.csv', 'z11_edit_HR_voxel.csv']\n",
    "outfile = 'scarAll.csv'\n",
    "\n",
    "combineFiles_for_scars(listcsv, outfile)"
   ]
  },
  {
   "cell_type": "code",
   "execution_count": 4,
   "metadata": {},
   "outputs": [
    {
     "name": "stdout",
     "output_type": "stream",
     "text": [
      "Combined files are save in  scarAll_blender.csv\n"
     ]
    }
   ],
   "source": [
    "listcsv = ['C4_blender_HR_voxel.csv', 'S4_blender_HR_voxel.csv', 'X2_blender_HR_voxel.csv', 'Z11_blender_HR_voxel.csv']\n",
    "outfile = 'scarAll_blender.csv'\n",
    "\n",
    "combineFiles_for_scars(listcsv, outfile)"
   ]
  }
 ],
 "metadata": {
  "kernelspec": {
   "display_name": "Python 3",
   "language": "python",
   "name": "python3"
  },
  "language_info": {
   "codemirror_mode": {
    "name": "ipython",
    "version": 3
   },
   "file_extension": ".py",
   "mimetype": "text/x-python",
   "name": "python",
   "nbconvert_exporter": "python",
   "pygments_lexer": "ipython3",
   "version": "3.6.1"
  }
 },
 "nbformat": 4,
 "nbformat_minor": 4
}
