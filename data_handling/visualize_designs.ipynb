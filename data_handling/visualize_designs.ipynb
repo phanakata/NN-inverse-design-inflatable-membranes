{
 "cells": [
  {
   "cell_type": "markdown",
   "metadata": {},
   "source": [
    "# Inverse design of inflated membranes through Machine Learning\n"
   ]
  },
  {
   "cell_type": "code",
   "execution_count": null,
   "metadata": {
    "collapsed": true
   },
   "outputs": [],
   "source": [
    "\"\"\"\n",
    "Helper function for combining user specified tests sets (e.g., dog face, manta ray, scars)\n",
    "\n",
    "\"\"\""
   ]
  },
  {
   "cell_type": "markdown",
   "metadata": {},
   "source": [
    "## Import system"
   ]
  },
  {
   "cell_type": "code",
   "execution_count": 1,
   "metadata": {
    "collapsed": true
   },
   "outputs": [],
   "source": [
    "from __future__ import division, print_function, absolute_import\n",
    "\n",
    "import numpy as np\n",
    "import matplotlib.pyplot as plt\n",
    "from scipy.stats import norm\n",
    "from sklearn.decomposition import PCA as RandomizedPCA\n",
    "import pandas as pd\n",
    "import random\n",
    "from numpy import genfromtxt"
   ]
  },
  {
   "cell_type": "code",
   "execution_count": 2,
   "metadata": {
    "collapsed": true
   },
   "outputs": [],
   "source": [
    "#for plotting\n",
    "import seaborn as sns\n",
    "from matplotlib.backends.backend_pdf import PdfPages\n",
    "sns.set_context(\"paper\", font_scale=1.5, rc={\"lines.linewidth\": 2.5})"
   ]
  },
  {
   "cell_type": "code",
   "execution_count": 4,
   "metadata": {
    "collapsed": true
   },
   "outputs": [],
   "source": [
    "hidden_dim3=1000\n",
    "hidden_dim4=1000\n",
    "lambda0=50\n",
    "textmodel=\"INet_f\"+str(hidden_dim3)+\"f\"+str(hidden_dim4)+\"lambda\"+str(lambda0)+\"_June20\"\n",
    "#shapes = \"Animals\"\n",
    "#shapes = \"ScarsNEW\"\n",
    "#shapes = ''\"STL\"\n",
    "shapes = 'C_NEW'\n",
    "\n",
    "fileUsers=\"voxels_\"+shapes+\"_fromUsers.csv\"\n",
    "#np.savetxt(shapes+\"_accuracy_from_INet\"+textmodel+\".csv\", ac, delimiter=',')\n",
    "fileBinary=\"inverse\"+shapes+\"_BINARYDESIGN_from_\"+textmodel+\".csv\"\n",
    "filePressure=\"inverse\"+shapes+\"_PRESSURE_from_\"+textmodel+\".csv\""
   ]
  },
  {
   "cell_type": "code",
   "execution_count": 6,
   "metadata": {
    "collapsed": true
   },
   "outputs": [],
   "source": [
    "#binary and pressure from ML\n",
    "binary_from_ML=pd.read_csv('inverseDesign_June20/'+fileBinary, delimiter=',', header=None)\n",
    "p_from_ML=pd.read_csv('inverseDesign_June20/'+filePressure, delimiter=',', header=None)\n",
    "\n",
    "#get real pressure  \n",
    "if shapes=='Animals':\n",
    "    p_real = np.array([1.5, 2.5, 3.5, 1.5, 2.5, 3.5, 1.5, 2.5, 3.5, 1.5, 2.5, \n",
    "                       3.5, 1.5, 2.5, 3.5, 1.5, 2.5, 3.5, 1.5, 2.5, 3.5, 1.5, 2.5, 3.5])\n",
    "elif shapes==\"ScarsNEW\":\n",
    "    p_real = np.array([ 1.5, 2.5, 3.5, 1.5, 2.5, 3.5, 1.5, 2.5, 3.5, 1.5, 2.5, 3.5])\n",
    "elif shapes==\"STL\":\n",
    "    p_real = np.array(p_from_ML)\n",
    "elif shapes =='C_NEW':\n",
    "    p_real = np.array([1.5, 2.5, 3.5])\n",
    "    #no real pressure for STL! \n",
    "    \n",
    "\n",
    "binary_from_ML = np.array(binary_from_ML)  \n",
    "p_real = p_real.reshape(len(p_real), 1)\n",
    "p_from_ML = np.array(p_from_ML)\n",
    "p_from_ML=p_from_ML.reshape((len(p_from_ML), 1))\n",
    "x_from_ML=np.concatenate((p_from_ML, binary_from_ML), axis=1)\n",
    "#ground truth \n",
    "if shapes!='STL':\n",
    "    voxels_design=pd.read_csv('inverseDesign_June20/'+fileUsers, delimiter=',', header=None)\n",
    "    voxels_design = np.array(voxels_design)\n",
    "    binary_true = voxels_design[:, :100]\n",
    "else:\n",
    "    binary_true = binary_from_ML\n"
   ]
  },
  {
   "cell_type": "code",
   "execution_count": 9,
   "metadata": {},
   "outputs": [
    {
     "name": "stdout",
     "output_type": "stream",
     "text": [
      "*********SUMMARY********: \n",
      "Model: INet_f1000f1000lambda50_June20\n",
      "Average A_binary: 0.9766666666666666\n",
      "R2_pressure: 0.6584225720911832\n",
      "Average absolute error pressure: 0.43741925557454425\n"
     ]
    }
   ],
   "source": [
    " A_binary, abs_err_pressure = accuracy(binary_true, binary_from_ML, p_real, p_from_ML)"
   ]
  },
  {
   "cell_type": "markdown",
   "metadata": {},
   "source": [
    "## visualize binary design "
   ]
  },
  {
   "cell_type": "code",
   "execution_count": 10,
   "metadata": {
    "scrolled": false
   },
   "outputs": [
    {
     "name": "stdout",
     "output_type": "stream",
     "text": [
      "ML predicitons--pressure: 2.2071685791015625 A_binary: 0.98\n"
     ]
    },
    {
     "data": {
      "image/png": "[encoded data removed]",
      "text/plain": [
       "<Figure size 432x288 with 1 Axes>"
      ]
     },
     "metadata": {},
     "output_type": "display_data"
    },
    {
     "name": "stdout",
     "output_type": "stream",
     "text": [
      "True design\n"
     ]
    },
    {
     "data": {
      "image/png": "[encoded data removed]",
      "text/plain": [
       "<Figure size 432x288 with 1 Axes>"
      ]
     },
     "metadata": {},
     "output_type": "display_data"
    },
    {
     "name": "stdout",
     "output_type": "stream",
     "text": [
      "ML predicitons--pressure: 2.8032495975494385 A_binary: 0.98\n"
     ]
    },
    {
     "data": {
      "image/png": "[encoded data removed]",
      "text/plain": [
       "<Figure size 432x288 with 1 Axes>"
      ]
     },
     "metadata": {},
     "output_type": "display_data"
    },
    {
     "name": "stdout",
     "output_type": "stream",
     "text": [
      "True design\n"
     ]
    },
    {
     "data": {
      "image/png": "[encoded data removed]",
      "text/plain": [
       "<Figure size 432x288 with 1 Axes>"
      ]
     },
     "metadata": {},
     "output_type": "display_data"
    },
    {
     "name": "stdout",
     "output_type": "stream",
     "text": [
      "ML predicitons--pressure: 3.801839590072632 A_binary: 0.97\n"
     ]
    },
    {
     "data": {
      "image/png": "[encoded data removed]",
      "text/plain": [
       "<Figure size 432x288 with 1 Axes>"
      ]
     },
     "metadata": {},
     "output_type": "display_data"
    },
    {
     "name": "stdout",
     "output_type": "stream",
     "text": [
      "True design\n"
     ]
    },
    {
     "data": {
      "image/png": "[encoded data removed]",
      "text/plain": [
       "<Figure size 432x288 with 1 Axes>"
      ]
     },
     "metadata": {},
     "output_type": "display_data"
    }
   ],
   "source": [
    "h=10\n",
    "w=10\n",
    "for i in range(len(binary_from_ML)):\n",
    "    plt.imshow(binary_from_ML[i].reshape(10, 10), origin='below')\n",
    "    print (\"ML predicitons--pressure: \"+ str(p_from_ML[i, 0])+\" A_binary: \"+str(A_binary[i]))\n",
    "    plt.show()\n",
    "    \n",
    "    print(\"True design\")\n",
    "    plt.imshow(binary_true[i].reshape(10, 10), origin='below')\n",
    "    plt.show()\n",
    "    \n"
   ]
  },
  {
   "cell_type": "code",
   "execution_count": 8,
   "metadata": {
    "collapsed": true
   },
   "outputs": [],
   "source": [
    "from sklearn.metrics import r2_score, accuracy_score\n",
    "\n",
    "def accuracy(x_true, x_predict, p_true, p_predict):\n",
    "    \n",
    "    \"\"\"Binary accuracy score\"\"\"\n",
    "    #BINARY DESIGNS \n",
    "    list_Abinary = []\n",
    "    ave_R2=0\n",
    "    \n",
    "    for jj in range(len(x_predict)):\n",
    "        \n",
    "        r2s = accuracy_score(x_true[jj], x_predict[jj])\n",
    "        \n",
    "        ave_R2 = ave_R2+r2s\n",
    "       \n",
    "        list_Abinary.append(r2s)\n",
    "    ave_Abinary = ave_R2/len(x_predict)\n",
    "    \n",
    "    #PRSSURE abslute difference \n",
    "    #ave_R2 = 0 \n",
    "    sum_abs = 0 \n",
    "    list_abs_err_pressure=[]\n",
    "    \n",
    "    for jj in range(len(x_predict)):\n",
    "        #r2s = r2_score(x_sample[jj, 0], x_mean[jj, 0])\n",
    "        #ave_R2 = ave_R2+r2s\n",
    "        temp  = np.sqrt((p_true[jj, 0]-p_predict[jj, 0])**2)\n",
    "        sum_abs = sum_abs+temp\n",
    "        #listMSE.append(temp)\n",
    "        list_abs_err_pressure.append(temp)\n",
    "    ave_abs_err_pressure=sum_abs/len(x_predict)\n",
    "    #print(r2s, temp)\n",
    "    \n",
    "    #PRSSURE  \n",
    "    ave_R2 = 0 \n",
    "    mse = 0 \n",
    "    \n",
    "    #R2 pressure\n",
    "    ave_R2 = r2_score(p_true, p_predict)\n",
    "    \n",
    "\n",
    "    print (\"*********SUMMARY********: \")\n",
    "    print (\"Model: \"+textmodel)\n",
    "    print (\"Average A_binary: \"+str(ave_Abinary))\n",
    "    print (\"R2_pressure: \"+str(ave_R2))\n",
    "    print (\"Average absolute error pressure: \"+str(ave_abs_err_pressure))\n",
    "   \n",
    "    return list_Abinary, list_abs_err_pressure"
   ]
  },
  {
   "cell_type": "code",
   "execution_count": null,
   "metadata": {
    "collapsed": true
   },
   "outputs": [],
   "source": []
  }
 ],
 "metadata": {
  "kernelspec": {
   "display_name": "Python 3",
   "language": "python",
   "name": "python3"
  },
  "language_info": {
   "codemirror_mode": {
    "name": "ipython",
    "version": 3
   },
   "file_extension": ".py",
   "mimetype": "text/x-python",
   "name": "python",
   "nbconvert_exporter": "python",
   "pygments_lexer": "ipython3",
   "version": "3.6.1"
  }
 },
 "nbformat": 4,
 "nbformat_minor": 4
}
